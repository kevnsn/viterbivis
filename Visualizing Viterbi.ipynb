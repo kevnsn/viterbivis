{
 "metadata": {
  "name": ""
 },
 "nbformat": 3,
 "nbformat_minor": 0,
 "worksheets": [
  {
   "cells": [
    {
     "cell_type": "markdown",
     "metadata": {},
     "source": [
      "#Visualizing the Viterbi Algorithm\n",
      "###Kevin Sun, ES-201 Final Project\n",
      "###Introduction\n",
      "In this project I visualize the Viterbi algorithm as applied to an arbitrary signal which has been encoded with Huffman encoding. I apply the Viterbi algorihtm to find the most-likely path of the encoded signal with noise.  By decoding the Viterbi path, I compare the decoded result and compare this to the original message. By doing so, I aim to provide insight into the error rate of the Viterbi algorithm as dependent on the length in the encoded signal.\n"
     ]
    },
    {
     "cell_type": "markdown",
     "metadata": {},
     "source": [
      "### Huffman Encoding and Decoding"
     ]
    },
    {
     "cell_type": "code",
     "collapsed": false,
     "input": [
      "#The following Huffman encoding code is taken from:\n",
      "#http://www.techrepublic.com/article/huffman-coding-in-python/\n",
      "#The Node class is used in creating a tree for Huffman Coding\n",
      "class Node(object):\n",
      "\tleft = None\n",
      "\tright = None\n",
      "\titem = None\n",
      "\tweight = 0\n",
      "\n",
      "\tdef __init__(self, i, w):\n",
      "\t\tself.item = i\n",
      "\t\tself.weight = w\n",
      "\n",
      "\tdef setChildren(self, ln, rn):\n",
      "\t\tself.left = ln\n",
      "\t\tself.right = rn\n",
      "\n",
      "\tdef __repr__(self):\n",
      "\t\treturn \"%s - %s -- %s _ %s\" % (self.item, self.weight, self.left, self.right)\n",
      "\n",
      "\tdef __cmp__(self, a):\n",
      "\t\treturn cmp(self.weight, a.weight)"
     ],
     "language": "python",
     "metadata": {},
     "outputs": [],
     "prompt_number": 3
    },
    {
     "cell_type": "code",
     "collapsed": false,
     "input": [
      "#The following Huffman encoding code is taken from:\n",
      "#http://www.techrepublic.com/article/huffman-coding-in-python/\n",
      "from itertools import groupby\n",
      "from heapq import *\n",
      "#Encodes a given huffman string\n",
      "def huffman(input):\n",
      "    #Createas a sorted list of nodes with appropriate weights using groupby.\n",
      "    itemqueue =  [Node(a,len(list(b))) for a,b in groupby(sorted(input))]\n",
      "    heapify(itemqueue)\n",
      "    #print heappop(itemqueue)\n",
      "    while len(itemqueue) > 1:\n",
      "        l = heappop(itemqueue)\n",
      "        r = heappop(itemqueue)\n",
      "        n = Node(None, r.weight+l.weight)\n",
      "        n.setChildren(l,r)\n",
      "        heappush(itemqueue, n)\n",
      "        \n",
      "    codes = {}\n",
      "    def codeIt(s, node):\n",
      "        if node.item:\n",
      "            if not s:\n",
      "                codes[node.item] = \"0\"\n",
      "            else:\n",
      "                codes[node.item] = s\n",
      "        else:\n",
      "            codeIt(s+\"0\", node.left)\n",
      "            codeIt(s+\"1\", node.right)\n",
      "    codeIt(\"\",itemqueue[0])\n",
      "    return codes, itemqueue[0],\"\".join([codes[a] for a in input])"
     ],
     "language": "python",
     "metadata": {},
     "outputs": [],
     "prompt_number": 4
    },
    {
     "cell_type": "code",
     "collapsed": false,
     "input": [
      "#Code to decode a huffman encoding given a tree representation of the data, created by Kevin Sun for this project\n",
      "def dec_huffman(inputstr,tree):\n",
      "    outputstr=\"\"\n",
      "    total_length = 0   \n",
      "    node = tree\n",
      "    for c in inputstr:\n",
      "        if c=='0':\n",
      "            node=node.left\n",
      "            if node.item!=None:\n",
      "                outputstr+=node.item\n",
      "                node = tree\n",
      "        elif c=='1':\n",
      "            node=node.right\n",
      "            if node.item!=None:\n",
      "                outputstr+=node.item\n",
      "                node = tree\n",
      "    return outputstr     "
     ],
     "language": "python",
     "metadata": {},
     "outputs": [],
     "prompt_number": 5
    },
    {
     "cell_type": "markdown",
     "metadata": {},
     "source": [
      "#### Testing Huffman Coding"
     ]
    },
    {
     "cell_type": "code",
     "collapsed": false,
     "input": [
      "codes, tree, encoded_string=huffman(\"ATCGCTATCTGATCTAGTCTATCATCACTCTAGAGATCCAAATCTCTCTAGAAGGGGGATCGATCTCTAGTCTATCATCACTCTAGAGATCCAAATCTCTCTAGAAGGGGGATCGATCTCTAGTCTATCATCACTCTAGAGATCCAAATCTCTCTAGAAGGGGGATCGATCTAGATAGTCTCTCTAGAGATCCAAATCTCTCTAGAAGG\")\n",
      "print \"The string is encoded as: \",encoded_string"
     ],
     "language": "python",
     "metadata": {},
     "outputs": [
      {
       "output_type": "stream",
       "stream": "stdout",
       "text": [
        "The string is encoded as:  1110010001101110011000111001101100100110111001111001110110011011001100111001011111111001100110011011001111000000000011100100111001100110110010011011100111100111011001101100110011100101111111100110011001101100111100000000001110010011100110011011001001101110011110011101100110110011001110010111111110011001100110110011110000000000111001001110011011001110110010011001100110110011001110010111111110011001100110110011110000\n"
       ]
      }
     ],
     "prompt_number": 6
    },
    {
     "cell_type": "code",
     "collapsed": false,
     "input": [
      "print \"The string is 'perfectly' decoded as: \", dec_huffman(encoded_string, tree)"
     ],
     "language": "python",
     "metadata": {},
     "outputs": [
      {
       "output_type": "stream",
       "stream": "stdout",
       "text": [
        "The string is 'perfectly' decoded as:  ATCGCTATCTGATCTAGTCTATCATCACTCTAGAGATCCAAATCTCTCTAGAAGGGGGATCGATCTCTAGTCTATCATCACTCTAGAGATCCAAATCTCTCTAGAAGGGGGATCGATCTCTAGTCTATCATCACTCTAGAGATCCAAATCTCTCTAGAAGGGGGATCGATCTAGATAGTCTCTCTAGAGATCCAAATCTCTCTAGAAGG\n"
       ]
      }
     ],
     "prompt_number": 7
    },
    {
     "cell_type": "markdown",
     "metadata": {},
     "source": [
      "### State Probabilities and Visualizing Signals"
     ]
    },
    {
     "cell_type": "code",
     "collapsed": false,
     "input": [
      "%matplotlib inline\n",
      "import matplotlib.pyplot as plt\n",
      "import numpy as np\n",
      "from numpy.random import random_sample"
     ],
     "language": "python",
     "metadata": {},
     "outputs": [],
     "prompt_number": 8
    },
    {
     "cell_type": "code",
     "collapsed": false,
     "input": [
      "def weighted_values(values, probabilities, size):\n",
      "    bins = np.add.accumulate(probabilities)\n",
      "    #print values\n",
      "    return values[np.digitize(random_sample(size), bins)]\n",
      "\n",
      "#Create an integer list representation of the original Huffman coding of the String\n",
      "encoded_signal_int = np.array([int(a) for a in encoded_string])\n",
      "\n",
      "#Define observations, transition probabilties, and states.\n",
      "states=[0,1]\n",
      "#obs_list = np.array([0,1,2,3,4,5,6,7,8,9,10])\n",
      "obs_list = np.array([0,.1,.2,.3,.4,.5,.6,.7,.8,.9,1.0])\n",
      "trans_prob1=np.array([.2,.40,.10,.10,.06,.05,.03,.02,.02,0.01,0.01])\n",
      "zero_prob=np.array(trans_prob1)\n",
      "one_prob=np.array(trans_prob1[::-1])\n",
      "\n",
      "#Create Noisy signals for visualiation purposes below\n",
      "noisy_signal=[weighted_values(obs_list,zero_prob, 1)[0] if a==0 else weighted_values(obs_list,one_prob, 1)[0] for a in encoded_signal_int]\n",
      "noisy_signal_str=[str(round(a,2)) for a in noisy_signal]\n",
      "noisy_signal_zero = [weighted_values(obs_list,zero_prob, 1)[0] for a in encoded_signal_int]\n",
      "noisy_signal_one = [weighted_values(obs_list,one_prob, 1)[0] for a in encoded_signal_int]\n",
      "\n",
      "#Print states, observations, and transition probabilities\n",
      "fig, axes = plt.subplots(1,2,figsize=(18,5))\n",
      "axes[0].set_title(\"Probabiltiy Density of the '0' Signal\")\n",
      "axes[0].bar(obs_list, zero_prob,width=.1,)\n",
      "axes[0].set_ylim((0,1))\n",
      "axes[0].set_xlim((-.05,1.15))\n",
      "print one_prob\n",
      "axes[1].set_title(\"Probabiltiy Density of the '1' Signal\")\n",
      "axes[1].bar(obs_list,one_prob,width=.1,)\n",
      "axes[1].set_ylim((0,1))\n",
      "axes[1].set_xlim((-.05,1.15))"
     ],
     "language": "python",
     "metadata": {},
     "outputs": [
      {
       "output_type": "stream",
       "stream": "stdout",
       "text": [
        "[ 0.01  0.01  0.02  0.02  0.03  0.05  0.06  0.1   0.1   0.4   0.2 ]\n"
       ]
      },
      {
       "metadata": {},
       "output_type": "pyout",
       "prompt_number": 9,
       "text": [
        "(-0.05, 1.15)"
       ]
      },
      {
       "metadata": {},
       "output_type": "display_data",
       "png": "[encoded data removed]",
       "text": [
        "<matplotlib.figure.Figure at 0x5878c50>"
       ]
      }
     ],
     "prompt_number": 9
    },
    {
     "cell_type": "code",
     "collapsed": false,
     "input": [
      "width = len(encoded_signal_int)\n",
      "fig, axes = plt.subplots(1,4,figsize=(14,5))\n",
      "axes[0].step(range(0,width), encoded_signal_int, lw=1,)\n",
      "axes[0].set_title(\"Original Signal\")\n",
      "axes[0].set_ylim((-.25,1.25))\n",
      "\n",
      "axes[1].step(range(0,width), noisy_signal, lw=1,)\n",
      "axes[1].set_title(\"Noisy Signal\")\n",
      "axes[1].set_ylim((-.25,1.25))\n",
      "\n",
      "axes[2].step(range(0,width), noisy_signal_zero, lw=1,)\n",
      "axes[2].set_title(\"Example Noisy 0 (Zero) Signal\")\n",
      "axes[2].set_ylim((-.25,1.25))\n",
      "\n",
      "axes[3].step(range(0,width), noisy_signal_one, lw=1,)\n",
      "axes[3].set_title(\"Example Noisy 1 (One) Signal\")\n",
      "axes[3].set_ylim((-.25,1.25))\n",
      "#ax.text(2, 20, \"Original Signal\", fontsize=12, color=\"blue\")"
     ],
     "language": "python",
     "metadata": {},
     "outputs": [
      {
       "metadata": {},
       "output_type": "pyout",
       "prompt_number": 10,
       "text": [
        "(-0.25, 1.25)"
       ]
      },
      {
       "metadata": {},
       "output_type": "display_data",
       "png": "[encoded data removed]",
       "text": [
        "<matplotlib.figure.Figure at 0x7bc7c50>"
       ]
      }
     ],
     "prompt_number": 10
    },
    {
     "cell_type": "code",
     "collapsed": false,
     "input": [
      "#Calculating state transition probabilities\n",
      "signal_length = len(encoded_signal_int)\n",
      "encoded_signal_blocked=[str(a)+str(encoded_signal_int[idx+1]) if ((idx+1)<len(encoded_signal_int)) else \"\" for (idx,a) in enumerate(encoded_signal_int)]\n",
      "#encoded_signal_blocked=encoded_signal_blocked[:-1]"
     ],
     "language": "python",
     "metadata": {},
     "outputs": [],
     "prompt_number": 11
    },
    {
     "cell_type": "code",
     "collapsed": false,
     "input": [
      "states = ('00','01','10','11')\n",
      "state_transprob={'00':{},'01':{},'10':{},'11':{}}\n",
      "for (idx,a) in enumerate(encoded_signal_blocked):\n",
      "    if idx+1<signal_length:\n",
      "        if encoded_signal_blocked[idx+1] in state_transprob[a]:            \n",
      "            state_transprob[a][encoded_signal_blocked[idx+1]]+=1\n",
      "        else:            \n",
      "            state_transprob[a][encoded_signal_blocked[idx+1]]=1\n",
      "#state_transprob=state_transprob/signal_length   \n",
      "print \"The transition estimates from the data are:\", state_transprob"
     ],
     "language": "python",
     "metadata": {},
     "outputs": [
      {
       "output_type": "stream",
       "stream": "stdout",
       "text": [
        "The transition estimates from the data are: {'11': {'11': 58, '10': 80}, '10': {'00': 68, '01': 24}, '00': {'': 1, '00': 28, '01': 67}, '01': {'11': 79, '10': 12}}\n"
       ]
      }
     ],
     "prompt_number": 12
    },
    {
     "cell_type": "markdown",
     "metadata": {},
     "source": [
      "### Viterbi Algorithm"
     ]
    },
    {
     "cell_type": "code",
     "collapsed": false,
     "input": [
      "obs_list_str=[str(round(o,2)) for o in obs_list]\n",
      "one_prob_dict={}\n",
      "zero_prob_dict={}\n",
      "for (idx, a) in enumerate(zero_prob):\n",
      "    zero_prob_dict[obs_list_str[idx]]=a     \n",
      "    one_prob_dict[obs_list_str[idx]]=one_prob[idx]    "
     ],
     "language": "python",
     "metadata": {},
     "outputs": [],
     "prompt_number": 13
    },
    {
     "cell_type": "code",
     "collapsed": false,
     "input": [
      "import itertools\n",
      "from itertools import chain, product"
     ],
     "language": "python",
     "metadata": {},
     "outputs": [],
     "prompt_number": 14
    },
    {
     "cell_type": "code",
     "collapsed": false,
     "input": [
      "#Implementing the Viterbi algorithm\n",
      "'''\n",
      "The states of the implementation are simply binary:\n",
      "'''\n",
      "states = ('00','01','10','11')\n",
      "\n",
      "'''\n",
      "The emission probabilities are calculated from the one_prob and zero_prob vectors defined above:\n",
      "'''\n",
      "emission_probability={'00':{},'01':{},'10':{},'11':{}}\n",
      "for (a,b) in itertools.product(obs_list_str, obs_list_str):\n",
      "    emission_probability['00'][(a,b)]=zero_prob_dict[a]*zero_prob_dict[b]\n",
      "    emission_probability['01'][(a,b)]=zero_prob_dict[a]*one_prob_dict[b]\n",
      "    emission_probability['10'][(a,b)]=one_prob_dict[a]*zero_prob_dict[b]\n",
      "    emission_probability['11'][(a,b)]=one_prob_dict[a]*one_prob_dict[b]\n",
      "\n",
      "'''\n",
      "The probabilites of a hidden sequence beginning with each state. In this case,\n",
      "we assume equal probability (knowing nothing prior).\n",
      "'''\n",
      "start_probability ={'00':0.22,'01':0.25,'10': .25,'11': .28}\n",
      " \n",
      "'''\n",
      "We know roughly probabilities of each state transitioning to each state from above calculations of transition probabbilities.\n",
      " \n",
      "Using the sample, we found that it's usually less likely to transition from 0 to 0, and more likely to trans. from 1 to 1.\n",
      "'''\n",
      "transition_probability = {'11': {'00':.0000001,'01':.0000001,'10': .4,'11': .6}, \n",
      " '10': {'00': .55, '01': .45,'10': .0000001,'11': .0000001}, \n",
      " '00': {'00': .55, '01': .45,'10': .0000001,'11': .0000001}, \n",
      " '01': {'00':.0000001,'01':.0000001,'11': .6, '10': .4}}"
     ],
     "language": "python",
     "metadata": {},
     "outputs": [],
     "prompt_number": 15
    },
    {
     "cell_type": "code",
     "collapsed": false,
     "input": [
      "import math\n",
      "def viterbi(observations, states, start_probability, transition_probability, emission_probability):\n",
      "    # The trellis consists of nodes for each possible state at each step in the hidden sequence.\n",
      "    # Each node has a probability.\n",
      "    # The edges connecting the nodes are transitions between states.\n",
      "    trellis = [{}]\n",
      "    # The current path through the trellis.\n",
      "    path = {}\n",
      " \n",
      "    # Add the probabilities of beginning the sequence with each possible state\n",
      "    for state in states:\n",
      "        #print state\n",
      "        trellis[0][state] = math.log(start_probability[state])+math.log(emission_probability[state][observations[0]])\n",
      "        path[state] = [state]\n",
      " \n",
      "    # Add probabilities for each subsequent state transitioning to each state.\n",
      "    for observations_index in range(1,len(observations)):\n",
      "        # Add a new path for the added step in the sequence.\n",
      "        trellis.append({})\n",
      "        new_path = {}\n",
      "        # For each possible state,\n",
      "        for state in states:\n",
      "            # Find the most probable state of:\n",
      "            # The previous most probable state's probability *\n",
      "            # the probability of the previous most probable state transitioning to the predicted state *\n",
      "            # The probability that the current observation corresponds to the predicted state\n",
      "            (probability, possible_state) = max(\n",
      "            [(trellis[observations_index-1][y0]+math.log(transition_probability[y0][state])+math.log(emission_probability[state][observations[observations_index]]), y0) for y0 in states])\n",
      " \n",
      "            # Add the probability of the state occuring at this step of the sequence to the trellis.\n",
      "            trellis[observations_index][state] = probability\n",
      "            # Add the state to the current path\n",
      "            new_path[state] = path[possible_state] + [state]\n",
      "        path = new_path\n",
      "     # Make a list of the paths that traverse the entire observation sequence and their probabilities,\n",
      "    # and select the most probable.\n",
      "    (probability, state) = max([(trellis[len(observations) - 1][state], state) for state in states])\n",
      "    # The most probable path, and its probability.    \n",
      "    return (probability, path[state])"
     ],
     "language": "python",
     "metadata": {},
     "outputs": [],
     "prompt_number": 17
    },
    {
     "cell_type": "code",
     "collapsed": false,
     "input": [
      "#Create the observations from the noisy signal in the desired form:\n",
      "observations=[(a,noisy_signal_str[idx+1]) if ((idx+1)<len(noisy_signal_str)) else [] for (idx,a) in enumerate(noisy_signal_str)]\n",
      "observations=observations[:-1]\n",
      "#print observations"
     ],
     "language": "python",
     "metadata": {},
     "outputs": [],
     "prompt_number": 18
    },
    {
     "cell_type": "code",
     "collapsed": false,
     "input": [
      "'''\n",
      "The sequence of observations. That is, a sequence of one feature vector\n",
      "produced for each input image of a character.\n",
      "'''\n",
      "print \"The states are: \",states\n",
      "#print \"The start probabilites are: \",start_probability\n",
      "#print \"The transition probabilites are: \",transition_probability\n",
      "#print \"The emission probabilities are: \",emission_probability\n",
      "#print \"The observations are \", noisy_signal\n",
      "print \"The output of the Viterbi algorithm is: \",viterbi(observations, states, start_probability, transition_probability, emission_probability)\n",
      "prob, viterbi_decoded_signal_block=viterbi(observations, states, start_probability, transition_probability, emission_probability)"
     ],
     "language": "python",
     "metadata": {},
     "outputs": [
      {
       "output_type": "stream",
       "stream": "stdout",
       "text": [
        "The states are:  ('00', '01', '10', '11')\n",
        "The output of the Viterbi algorithm is:  (-1691.8854001751733, ['11', '11', '10', '00', '01', '10', '00', '00', '01', '11', '10', '00', '01', '11', '10', '00', '01', '11', '10', '00', '00', '01', '11', '11', '10', '00', '01', '11', '10', '01', '11', '10', '00', '00', '00', '00', '01', '11', '10', '01', '11', '10', '00', '01', '11', '11', '11', '11', '10', '00', '01', '11', '11', '10', '01', '11', '10', '00', '01', '11', '10', '01', '11', '10', '00', '01', '11', '10', '00', '01', '11', '11', '10', '00', '01', '10', '01', '11', '11', '11', '11', '10', '01', '11', '10', '00', '01', '11', '10', '00', '01', '10', '00', '00', '01', '11', '10', '01', '11', '10', '00', '01', '11', '11', '11', '10', '00', '00', '01', '11', '10', '00', '00', '00', '00', '00', '00', '01', '10', '00', '00', '00', '00', '01', '11', '11', '11', '10', '01', '11', '10', '00', '01', '11', '10', '01', '11', '10', '00', '01', '10', '00', '01', '11', '10', '00', '01', '11', '10', '01', '11', '11', '11', '11', '10', '00', '00', '01', '11', '10', '01', '11', '10', '01', '11', '11', '10', '01', '10', '00', '00', '01', '11', '11', '10', '01', '11', '11', '11', '10', '01', '10', '01', '11', '11', '11', '11', '11', '11', '11', '11', '10', '01', '11', '10', '00', '01', '11', '10', '00', '01', '11', '10', '01', '11', '10', '00', '01', '11', '11', '11', '10', '00', '00', '00', '00', '00', '00', '01', '11', '10', '01', '11', '11', '10', '01', '11', '11', '10', '01', '11', '11', '10', '00', '01', '11', '10', '00', '01', '11', '10', '01', '11', '10', '00', '01', '10', '00', '01', '11', '10', '01', '11', '11', '10', '00', '01', '11', '11', '11', '10', '00', '01', '11', '10', '00', '01', '11', '10', '00', '01', '11', '10', '01', '11', '10', '00', '01', '11', '10', '00', '01', '11', '11', '10', '00', '01', '11', '11', '11', '11', '11', '10', '01', '11', '11', '10', '01', '11', '11', '10', '00', '01', '10', '00', '00', '00', '01', '10', '01', '11', '11', '10', '01', '11', '11', '10', '00', '00', '00', '00', '00', '00', '01', '10', '00', '01', '11', '11', '11', '10', '01', '11', '10', '00', '01', '11', '10', '00', '00', '00', '01', '10', '01', '11', '10', '01', '11', '11', '11', '10', '01', '11', '10', '00', '01', '10', '00', '01', '11', '10', '01', '11', '11', '10', '00', '01', '11', '10', '00', '01', '11', '11', '11', '11', '10', '00', '01', '11', '11', '10', '00', '00', '00', '01', '11', '11', '11', '10', '01', '11', '11', '10', '00', '01', '11', '10', '01', '11', '11', '10', '00', '00', '01', '10', '00', '01', '10', '00', '01', '10', '01', '11', '10', '00', '00', '00'])\n"
       ]
      }
     ],
     "prompt_number": 19
    },
    {
     "cell_type": "code",
     "collapsed": false,
     "input": [
      "viterbi_decoded_signal=[a[0] for a in viterbi_decoded_signal_block]\n",
      "viterbi_decoded_signal.append(viterbi_decoded_signal_block[-1][1])\n",
      "viterbi_decoded_signal_int=np.array([int(a) for a in viterbi_decoded_signal])"
     ],
     "language": "python",
     "metadata": {},
     "outputs": [],
     "prompt_number": 20
    },
    {
     "cell_type": "code",
     "collapsed": false,
     "input": [
      "print viterbi_decoded_signal"
     ],
     "language": "python",
     "metadata": {},
     "outputs": [
      {
       "output_type": "stream",
       "stream": "stdout",
       "text": [
        "['1', '1', '1', '0', '0', '1', '0', '0', '0', '1', '1', '0', '0', '1', '1', '0', '0', '1', '1', '0', '0', '0', '1', '1', '1', '0', '0', '1', '1', '0', '1', '1', '0', '0', '0', '0', '0', '1', '1', '0', '1', '1', '0', '0', '1', '1', '1', '1', '1', '0', '0', '1', '1', '1', '0', '1', '1', '0', '0', '1', '1', '0', '1', '1', '0', '0', '1', '1', '0', '0', '1', '1', '1', '0', '0', '1', '0', '1', '1', '1', '1', '1', '0', '1', '1', '0', '0', '1', '1', '0', '0', '1', '0', '0', '0', '1', '1', '0', '1', '1', '0', '0', '1', '1', '1', '1', '0', '0', '0', '1', '1', '0', '0', '0', '0', '0', '0', '0', '1', '0', '0', '0', '0', '0', '1', '1', '1', '1', '0', '1', '1', '0', '0', '1', '1', '0', '1', '1', '0', '0', '1', '0', '0', '1', '1', '0', '0', '1', '1', '0', '1', '1', '1', '1', '1', '0', '0', '0', '1', '1', '0', '1', '1', '0', '1', '1', '1', '0', '1', '0', '0', '0', '1', '1', '1', '0', '1', '1', '1', '1', '0', '1', '0', '1', '1', '1', '1', '1', '1', '1', '1', '1', '0', '1', '1', '0', '0', '1', '1', '0', '0', '1', '1', '0', '1', '1', '0', '0', '1', '1', '1', '1', '0', '0', '0', '0', '0', '0', '0', '1', '1', '0', '1', '1', '1', '0', '1', '1', '1', '0', '1', '1', '1', '0', '0', '1', '1', '0', '0', '1', '1', '0', '1', '1', '0', '0', '1', '0', '0', '1', '1', '0', '1', '1', '1', '0', '0', '1', '1', '1', '1', '0', '0', '1', '1', '0', '0', '1', '1', '0', '0', '1', '1', '0', '1', '1', '0', '0', '1', '1', '0', '0', '1', '1', '1', '0', '0', '1', '1', '1', '1', '1', '1', '0', '1', '1', '1', '0', '1', '1', '1', '0', '0', '1', '0', '0', '0', '0', '1', '0', '1', '1', '1', '0', '1', '1', '1', '0', '0', '0', '0', '0', '0', '0', '1', '0', '0', '1', '1', '1', '1', '0', '1', '1', '0', '0', '1', '1', '0', '0', '0', '0', '1', '0', '1', '1', '0', '1', '1', '1', '1', '0', '1', '1', '0', '0', '1', '0', '0', '1', '1', '0', '1', '1', '1', '0', '0', '1', '1', '0', '0', '1', '1', '1', '1', '1', '0', '0', '1', '1', '1', '0', '0', '0', '0', '1', '1', '1', '1', '0', '1', '1', '1', '0', '0', '1', '1', '0', '1', '1', '1', '0', '0', '0', '1', '0', '0', '1', '0', '0', '1', '0', '1', '1', '0', '0', '0', '0']\n"
       ]
      }
     ],
     "prompt_number": 21
    },
    {
     "cell_type": "markdown",
     "metadata": {},
     "source": [
      "### Testing Performance of Decoding"
     ]
    },
    {
     "cell_type": "code",
     "collapsed": false,
     "input": [
      "print \"The encoded signal is: \\n\", encoded_signal_int\n",
      "naive_decoded_signal = np.array([int(round(a)) for a in noisy_signal])\n",
      "print \"The naive decoded signal is: \\n\", naive_decoded_signal\n",
      "print \"The viterbi decoded signal is: \\n\", viterbi_decoded_signal_int"
     ],
     "language": "python",
     "metadata": {},
     "outputs": [
      {
       "output_type": "stream",
       "stream": "stdout",
       "text": [
        "The encoded signal is: \n",
        "[1 1 1 0 0 1 0 0 0 1 1 0 1 1 1 0 0 1 1 0 0 0 1 1 1 0 0 1 1 0 1 1 0 0 1 0 0\n",
        " 1 1 0 1 1 1 0 0 1 1 1 1 0 0 1 1 1 0 1 1 0 0 1 1 0 1 1 0 0 1 1 0 0 1 1 1 0\n",
        " 0 1 0 1 1 1 1 1 1 1 1 0 0 1 1 0 0 1 1 0 0 1 1 0 1 1 0 0 1 1 1 1 0 0 0 0 0\n",
        " 0 0 0 0 0 1 1 1 0 0 1 0 0 1 1 1 0 0 1 1 0 0 1 1 0 1 1 0 0 1 0 0 1 1 0 1 1\n",
        " 1 0 0 1 1 1 1 0 0 1 1 1 0 1 1 0 0 1 1 0 1 1 0 0 1 1 0 0 1 1 1 0 0 1 0 1 1\n",
        " 1 1 1 1 1 1 0 0 1 1 0 0 1 1 0 0 1 1 0 1 1 0 0 1 1 1 1 0 0 0 0 0 0 0 0 0 0\n",
        " 1 1 1 0 0 1 0 0 1 1 1 0 0 1 1 0 0 1 1 0 1 1 0 0 1 0 0 1 1 0 1 1 1 0 0 1 1\n",
        " 1 1 0 0 1 1 1 0 1 1 0 0 1 1 0 1 1 0 0 1 1 0 0 1 1 1 0 0 1 0 1 1 1 1 1 1 1\n",
        " 1 0 0 1 1 0 0 1 1 0 0 1 1 0 1 1 0 0 1 1 1 1 0 0 0 0 0 0 0 0 0 0 1 1 1 0 0\n",
        " 1 0 0 1 1 1 0 0 1 1 0 1 1 0 0 1 1 1 0 1 1 0 0 1 0 0 1 1 0 0 1 1 0 0 1 1 0\n",
        " 1 1 0 0 1 1 0 0 1 1 1 0 0 1 0 1 1 1 1 1 1 1 1 0 0 1 1 0 0 1 1 0 0 1 1 0 1\n",
        " 1 0 0 1 1 1 1 0 0 0 0]\n",
        "The naive decoded signal is: \n",
        "[1 1 1 0 0 1 0 0 0 1 1 0 0 1 1 0 0 1 1 0 0 0 1 1 1 0 0 1 1 0 1 1 0 0 0 0 0\n",
        " 1 1 0 1 1 0 0 1 1 1 1 1 0 0 1 1 1 0 1 1 0 0 1 1 0 1 1 0 0 1 1 0 0 1 1 1 0\n",
        " 0 1 0 1 1 1 1 1 0 1 1 0 0 1 1 0 0 1 0 0 0 1 1 0 1 1 0 0 1 1 1 1 0 0 0 1 1\n",
        " 0 0 0 0 1 0 0 1 0 0 0 1 0 1 1 1 1 0 1 1 0 0 1 1 0 1 1 0 0 1 0 0 1 1 0 0 1\n",
        " 1 0 1 1 1 1 1 0 0 0 1 1 0 1 1 0 1 1 1 0 1 0 0 0 1 1 1 0 1 1 1 1 0 1 0 1 1\n",
        " 1 1 1 1 1 1 1 0 1 1 0 0 1 1 0 0 1 1 0 1 1 0 0 1 1 1 1 0 0 0 0 0 0 0 1 1 0\n",
        " 1 1 1 0 1 1 1 0 1 1 1 0 0 1 1 0 0 1 1 0 1 1 0 0 1 0 0 1 1 0 1 1 1 0 0 1 1\n",
        " 1 1 0 0 1 1 0 0 1 1 0 0 1 1 0 1 1 0 0 1 1 0 0 1 1 1 0 0 1 1 1 1 1 1 0 1 1\n",
        " 1 0 1 1 1 0 0 1 0 0 0 0 1 0 1 1 1 0 1 1 1 0 0 0 0 0 0 0 1 0 0 1 1 1 1 0 1\n",
        " 1 0 0 1 1 0 0 0 0 1 0 1 1 0 1 1 1 1 0 1 1 0 0 1 0 0 1 1 0 1 1 1 0 0 1 1 0\n",
        " 0 1 1 1 1 1 0 0 1 1 1 0 0 0 0 1 1 1 1 0 1 1 1 0 0 1 1 0 1 1 1 0 0 0 1 0 0\n",
        " 1 0 0 1 0 1 1 0 0 0 0]\n",
        "The viterbi decoded signal is: \n",
        "[1 1 1 0 0 1 0 0 0 1 1 0 0 1 1 0 0 1 1 0 0 0 1 1 1 0 0 1 1 0 1 1 0 0 0 0 0\n",
        " 1 1 0 1 1 0 0 1 1 1 1 1 0 0 1 1 1 0 1 1 0 0 1 1 0 1 1 0 0 1 1 0 0 1 1 1 0\n",
        " 0 1 0 1 1 1 1 1 0 1 1 0 0 1 1 0 0 1 0 0 0 1 1 0 1 1 0 0 1 1 1 1 0 0 0 1 1\n",
        " 0 0 0 0 0 0 0 1 0 0 0 0 0 1 1 1 1 0 1 1 0 0 1 1 0 1 1 0 0 1 0 0 1 1 0 0 1\n",
        " 1 0 1 1 1 1 1 0 0 0 1 1 0 1 1 0 1 1 1 0 1 0 0 0 1 1 1 0 1 1 1 1 0 1 0 1 1\n",
        " 1 1 1 1 1 1 1 0 1 1 0 0 1 1 0 0 1 1 0 1 1 0 0 1 1 1 1 0 0 0 0 0 0 0 1 1 0\n",
        " 1 1 1 0 1 1 1 0 1 1 1 0 0 1 1 0 0 1 1 0 1 1 0 0 1 0 0 1 1 0 1 1 1 0 0 1 1\n",
        " 1 1 0 0 1 1 0 0 1 1 0 0 1 1 0 1 1 0 0 1 1 0 0 1 1 1 0 0 1 1 1 1 1 1 0 1 1\n",
        " 1 0 1 1 1 0 0 1 0 0 0 0 1 0 1 1 1 0 1 1 1 0 0 0 0 0 0 0 1 0 0 1 1 1 1 0 1\n",
        " 1 0 0 1 1 0 0 0 0 1 0 1 1 0 1 1 1 1 0 1 1 0 0 1 0 0 1 1 0 1 1 1 0 0 1 1 0\n",
        " 0 1 1 1 1 1 0 0 1 1 1 0 0 0 0 1 1 1 1 0 1 1 1 0 0 1 1 0 1 1 1 0 0 0 1 0 0\n",
        " 1 0 0 1 0 1 1 0 0 0 0]\n"
       ]
      }
     ],
     "prompt_number": 69
    },
    {
     "cell_type": "code",
     "collapsed": false,
     "input": [
      "print \"The string is decoded as: \", dec_huffman(encoded_string, tree)\n",
      "naive_decode=\"\".join([str(a) for a in naive_decoded_signal])\n",
      "print \"\\nThe string is naively decoded as: \", dec_huffman(naive_decode, tree)\n",
      "\n",
      "viterbi_decode=\"\".join([str(a) for a in viterbi_decoded_signal])\n",
      "print \"\\nThe string is decoded with Viterbi as: \", dec_huffman(viterbi_decode, tree)\n"
     ],
     "language": "python",
     "metadata": {},
     "outputs": [
      {
       "output_type": "stream",
       "stream": "stdout",
       "text": [
        "The string is decoded as:  ATCGCTATCTGATCTAGTCTATCATCACTCTAGAGATCCAAATCTCTCTAGAAGGGGGATCGATCTCTAGTCTATCATCACTCTAGAGATCCAAATCTCTCTAGAAGGGGGATCGATCTCTAGTCTATCATCACTCTAGAGATCCAAATCTCTCTAGAAGGGGGATCGATCTAGATAGTCTCTCTAGAGATCCAAATCTCTCTAGAAGG\n",
        "\n",
        "The string is naively decoded as:  ATCGCTCTCTGATCTAGGCTAGAATCACTCTAGAGATCCAACTCTCGCTAGAAGCTGCGTGTAACTCTAGTCTCTAATGACTATTGATAACCAAAACTCTCTAGAAGGGCTATATATCTCTAGTCTATCATCTCTCTAGAGATCAATATATCGGTATATGGGTCATAGAGGTACATAGTCTATCTCAAGATGCATATCTATGTCGTAGG\n",
        "\n",
        "The string is decoded with Viterbi as:  ATCGCTCTCTGATCTAGGCTAGAATCACTCTAGAGATCCAACTCTCGCTAGAAGCTGGGTGGAACTCTAGTCTCTAATGACTATTGATAACCAAAACTCTCTAGAAGGGCTATATATCTCTAGTCTATCATCTCTCTAGAGATCAATATATCGGTATATGGGTCATAGAGGTACATAGTCTATCTCAAGATGCATATCTATGTCGTAGG\n"
       ]
      }
     ],
     "prompt_number": 23
    },
    {
     "cell_type": "code",
     "collapsed": false,
     "input": [
      "print \"The error of the decoded signal (residual norm) is: \", (np.linalg.norm(encoded_signal_int-naive_decoded_signal,1)+0.0)/len(encoded_string)\n",
      "print \"The error of the viterbi decoded signal (residual norm) is: \",(np.linalg.norm(encoded_signal_int-viterbi_decoded_signal_int,1)+0.0)/len(encoded_string)"
     ],
     "language": "python",
     "metadata": {},
     "outputs": [
      {
       "output_type": "stream",
       "stream": "stdout",
       "text": [
        "The error of the decoded signal (residual norm) is:  0.11961722488\n",
        "The error of the viterbi decoded signal (residual norm) is:  0.114832535885\n"
       ]
      }
     ],
     "prompt_number": 27
    },
    {
     "cell_type": "markdown",
     "metadata": {},
     "source": [
      "### Performance Analysis of Viterbi Algorithm"
     ]
    },
    {
     "cell_type": "code",
     "collapsed": false,
     "input": [
      "import random\n",
      "#Runs the viterbi algorithm on a string of length n\n",
      "#Returns the errors\n",
      "def viterbi_run(n):\n",
      "    content=''.join(random.choice(['A','T','C','G']) for _ in range(n))\n",
      "    codes, tree, encoded_string=huffman(content)\n",
      "    #Create an integer list representation of the original Huffman coding of the String\n",
      "    encoded_signal_int = np.array([int(a) for a in encoded_string])\n",
      "    #Create Noisy signals for visualiation purposes below\n",
      "    noisy_signal=[weighted_values(obs_list,zero_prob, 1)[0] if a==0 else weighted_values(obs_list,one_prob, 1)[0] for a in encoded_signal_int]\n",
      "    noisy_signal_str=[str(round(a,2)) for a in noisy_signal]\n",
      "    observations=[(a,noisy_signal_str[idx+1]) if ((idx+1)<len(noisy_signal_str)) else [] for (idx,a) in enumerate(noisy_signal_str)]\n",
      "    #Remove the last value due to blocking\n",
      "    observations=observations[:-1]\n",
      "        \n",
      "    #print noisy_signal_str\n",
      "    #Run the Viterbi alogriuthm\n",
      "    prob, viterbi_decoded_signal_block=viterbi(observations, states, start_probability, transition_probability, emission_probability)\n",
      "    #Get Viterbi result\n",
      "    viterbi_decoded_signal=[a[0] for a in viterbi_decoded_signal_block]\n",
      "    viterbi_decoded_signal.append(viterbi_decoded_signal_block[-1][1])\n",
      "    viterbi_decoded_signal_int=np.array([int(a) for a in viterbi_decoded_signal])\n",
      "    #Get Naive result\n",
      "    naive_decoded_signal = np.array([int(round(a)) for a in noisy_signal])\n",
      "    \n",
      "    #print encoded_signal_int\n",
      "    #print noisy_signal\n",
      "    #print naive_decoded_signal\n",
      "    #print viterbi_decoded_signal_int\n",
      "    return (np.linalg.norm(encoded_signal_int-naive_decoded_signal,1)+0.0)/len(encoded_string),(np.linalg.norm(encoded_signal_int-viterbi_decoded_signal_int,1)+0.0)/len(encoded_string)"
     ],
     "language": "python",
     "metadata": {},
     "outputs": [],
     "prompt_number": 30
    },
    {
     "cell_type": "code",
     "collapsed": false,
     "input": [
      "naive_error=[]\n",
      "viterbi_error=[]\n",
      "for n in range(2,3000):\n",
      "    a,b = viterbi_run(n)\n",
      "    naive_error.append(a)\n",
      "    viterbi_error.append(b)"
     ],
     "language": "python",
     "metadata": {},
     "outputs": []
    },
    {
     "cell_type": "code",
     "collapsed": false,
     "input": [
      "difference=np.matrix(viterbi_error[:2998])-np.matrix(naive_error[:2998])"
     ],
     "language": "python",
     "metadata": {},
     "outputs": [],
     "prompt_number": 64
    },
    {
     "cell_type": "code",
     "collapsed": false,
     "input": [
      "fig,axes=plt.subplots(1,2,figsize=(15,10))\n",
      "p2, = axes[0].plot(viterbi_error[:2998], label=\"Viterbi Decoder\")\n",
      "p1, = axes[0].plot(naive_error[:2998], label=\"Naive Decoder\")\n",
      "axes[0].legend()\n",
      "axes[0].set_title(\"Error ratio and signal length\")\n",
      "axes[0].set_xlabel(\"Signal length\")\n",
      "\n",
      "p1, = axes[1].plot(difference.tolist()[0])\n",
      "axes[1].set_title(\"Viterbi error - Naive Error\")\n",
      "axes[1].set_xlabel(\"Signal length\")"
     ],
     "language": "python",
     "metadata": {},
     "outputs": [
      {
       "metadata": {},
       "output_type": "pyout",
       "prompt_number": 68,
       "text": [
        "<matplotlib.text.Text at 0xabe1b00>"
       ]
      },
      {
       "metadata": {},
       "output_type": "display_data",
       "png": "[encoded data removed]",
       "text": [
        "<matplotlib.figure.Figure at 0xae7c940>"
       ]
      }
     ],
     "prompt_number": 68
    }
   ],
   "metadata": {}
  }
 ]
}